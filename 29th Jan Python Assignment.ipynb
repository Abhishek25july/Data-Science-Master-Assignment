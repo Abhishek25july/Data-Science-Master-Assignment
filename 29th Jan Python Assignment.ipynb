{
 "cells": [
  {
   "cell_type": "markdown",
   "id": "4ca66698",
   "metadata": {},
   "source": [
    "1--Who developed python programming langaue?"
   ]
  },
  {
   "cell_type": "markdown",
   "id": "3837539a",
   "metadata": {},
   "source": [
    "Answer---Python was developed by Guido van Rossum. He started working on Python in the late 1980s, \n",
    "and the first version, Python 0.9.0, was released in February 1991. Guido van Rossum continued to lead the development of \n",
    "Python until he stepped down from the role of \"Benevolent Dictator For Life\" (BDFL) of Python in 2018. \n",
    "Python is now maintained by the Python Software Foundation (PSF) and a large community of developers worldwide."
   ]
  },
  {
   "cell_type": "markdown",
   "id": "7c8958b1",
   "metadata": {},
   "source": [
    "2---Which type of Programming does Python support?"
   ]
  },
  {
   "cell_type": "markdown",
   "id": "72d09e96",
   "metadata": {},
   "source": [
    "Ans:-Python supports multiple programming paradigms, making it a versatile language suitable for various types of programming. Here are some of the programming paradigms supported by Python:\n",
    "\n",
    "1-Procedural Programming: Python supports procedural programming where you can write code in a series of steps or procedures to perform specific tasks.\n",
    "\n",
    "2-Object-Oriented Programming (OOP): Python is a powerful object-oriented programming language. It allows you to define classes, create objects, and use inheritance, encapsulation, and polymorphism to structure and organize code.\n",
    "\n",
    "3-Functional Programming: Python supports functional programming concepts. Functions in Python are first-class citizens, meaning you can use functions as arguments, return values, or assign them to variables. Python also includes features such as lambda functions, map, filter, and reduce for functional programming.\n",
    "\n",
    "4-Imperative Programming: Python supports imperative programming, where you describe a sequence of commands for the computer to execute.\n",
    "\n",
    "5-Declarative Programming: Although not purely declarative, Python allows some declarative programming styles, especially with libraries like NumPy and SQL Alchemy."
   ]
  },
  {
   "cell_type": "markdown",
   "id": "aec7b06c",
   "metadata": {},
   "source": [
    "3--Is Python is case sensitive when dealing with identifiers?"
   ]
  },
  {
   "cell_type": "markdown",
   "id": "602c02f4",
   "metadata": {},
   "source": [
    "Ans:-Yes, Python is case-sensitive when dealing with identifiers. This means that identifiers such as variable names, function names, class names, and other names used in Python code must match exactly in terms of casing when referring to them."
   ]
  },
  {
   "cell_type": "markdown",
   "id": "19181b85",
   "metadata": {},
   "source": [
    "5--What is the correct extension of the Python file?"
   ]
  },
  {
   "cell_type": "markdown",
   "id": "ff8fbe84",
   "metadata": {},
   "source": [
    "Ans:-The correct extension for a Python file is .py. When you save a Python script or program, you should use a file name that ends with the .py extension. For example, you might name your file my_script.py."
   ]
  },
  {
   "cell_type": "markdown",
   "id": "292d4797",
   "metadata": {},
   "source": [
    "6--Name a few blocks of code used to define in Python language?"
   ]
  },
  {
   "cell_type": "markdown",
   "id": "c6a2f171",
   "metadata": {},
   "source": [
    "Ans:-In Python, code blocks are defined using indentation. Indentation is crucial for indicating the structure and scope of code, such as loops, conditional statements, function definitions, and classes."
   ]
  },
  {
   "cell_type": "markdown",
   "id": "549a04d0",
   "metadata": {},
   "source": [
    "7--State a character used to give single line comments in Python?"
   ]
  },
  {
   "cell_type": "markdown",
   "id": "96e92aa5",
   "metadata": {},
   "source": [
    "Ans:-In Python, the character '#' (hash symbol) is used to denote single-line comments."
   ]
  },
  {
   "cell_type": "markdown",
   "id": "b444a2b8",
   "metadata": {},
   "source": [
    "8---Mention function which  can help us to find the version of  Python that we are currently working on?"
   ]
  },
  {
   "cell_type": "markdown",
   "id": "70d8acf2",
   "metadata": {},
   "source": [
    "Ans:- To find out the version of Python that you are currently working with,\n",
    "    you can use the sys module in Python along with its version attribute. Here's how you can do it:\n",
    "#####    for example:-\n",
    "#####        import sys\n",
    "#####               print(sys.version)"
   ]
  },
  {
   "cell_type": "markdown",
   "id": "9e3ebc9e",
   "metadata": {},
   "source": [
    "9---Python supports the creation of anonymous functions at  runtime using a construct called ________________?"
   ]
  },
  {
   "cell_type": "markdown",
   "id": "ae873020",
   "metadata": {},
   "source": [
    "Ans:- Python supports the creation of anonymous functions at runtime using a construct called lambda functions."
   ]
  },
  {
   "cell_type": "markdown",
   "id": "3af5d627",
   "metadata": {},
   "source": [
    "10--- What does pip stand for Python?"
   ]
  },
  {
   "cell_type": "markdown",
   "id": "02a93403",
   "metadata": {},
   "source": [
    "Ans-- The term \"pip\" in Python stands for \"Pip Installs Packages\" or simply \"Pip Installs Python\".\n",
    "\n",
    "Pip is the standard package manager for Python, used for installing and managing software packages written in Python. \n",
    "It is a command-line tool that allows you to easily install, uninstall, upgrade, and manage Python packages and \n",
    "their dependencies. Pip interacts with the Python Package Index (PyPI), which is a repository of software packages for Python.\n",
    "\n",
    "With pip, you can install packages by running commands like pip install package_name, upgrade packages with \n",
    "pip install--upgrade package_name, uninstall packages with pip uninstall package_name, and more. Pip also supports installing\n",
    "packages from local directories, version control systems, and other sources.\n",
    "\n",
    "The use of pip is essential for Python developers and users to leverage the vast ecosystem of Python libraries and tools\n",
    "available on PyPI, enabling easy integration of third-party functionality into Python projects."
   ]
  },
  {
   "cell_type": "markdown",
   "id": "12635596",
   "metadata": {},
   "source": [
    "11--- Mention few built-in function in python ?"
   ]
  },
  {
   "cell_type": "markdown",
   "id": "88b4edb5",
   "metadata": {},
   "source": [
    "Ans--Python comes with a rich set of built-in functions that are readily available for use without requiring import statements. Here are some commonly used built-in functions in Python:\n",
    "\n",
    "1-print()\n",
    "2-range()\n",
    "3-sum()\n",
    "4-len()\n",
    "5-type() and many more"
   ]
  },
  {
   "cell_type": "markdown",
   "id": "3ea644e0",
   "metadata": {},
   "source": [
    "12---What is the maximum possible length of an identifiers in Python?"
   ]
  },
  {
   "cell_type": "markdown",
   "id": "3e6be340",
   "metadata": {},
   "source": [
    "Ans:- In Python, the maximum possible length of an identifier (e.g., variable names, function names, class names) is not explicitly defined by a fixed number of characters. However, Python imposes practical limitations based on the implementation of the language and the conventions followed by developers."
   ]
  },
  {
   "cell_type": "markdown",
   "id": "e6719343",
   "metadata": {},
   "source": [
    "13--What are benefits of using python ?"
   ]
  },
  {
   "cell_type": "markdown",
   "id": "0d36e22d",
   "metadata": {},
   "source": [
    " Ans:- Python offers a wide range of benefits that make it a popular choice for developers, engineers, data scientists,\n",
    "      and educators. Here are some key advantages of using Python:\n",
    "   \n",
    "###### Readability: Python's clean and simple syntax emphasizes readability and reduces the cost of program maintenance.\n",
    "\n",
    "###### Large Standard Library: Python comes with a comprehensive standard library that provides modules for various tasks,  reducing the need for external dependencies.\n",
    "\n",
    "###### Cross-platform Compatibility: Python runs on major operating systems (Windows, macOS, Linux) with consistent behavior,  enhancing portability.\n",
    "\n",
    "###### Open Source and Community Support: Python is open source with an active community that develops libraries, frameworks,  and tools, fostering continuous improvement.\n",
    "\n",
    "###### Extensive Third-party Libraries: Python has a vast ecosystem of third-party libraries\n",
    "###### (NumPy, Pandas, TensorFlow, Django, etc.) for diverse domains like data science, web development, and machine learning.\n",
    "\n",
    "###### Versatility: Supports multiple programming paradigms (procedural, object-oriented, functional), suitable for various  applications from web development to scientific computing.\n",
    "\n",
    "###### Strong Community and Documentation: Python has excellent documentation and a friendly community, making it accessible  for learning and collaboration.\n",
    "\n",
    "###### Rapid Prototyping: Python's simplicity and ease of use facilitate rapid prototyping and development, ideal for\n",
    "###### experimenting with ideas quickly.    "
   ]
  },
  {
   "cell_type": "markdown",
   "id": "45c4cdf5",
   "metadata": {},
   "source": [
    "14--- How is memory is managed by python ?"
   ]
  },
  {
   "cell_type": "markdown",
   "id": "391175b1",
   "metadata": {},
   "source": [
    "Ans:- \n",
    "Python manages memory using a combination of techniques, including automatic memory allocation and garbage collection. \n",
    "Here's a brief overview of how memory management works in Python:\n",
    "\n",
    "###### Automatic Memory Allocation: Python allocates memory dynamically from a private heap whenever objects (variables, lists, objects) are created.\n",
    "###### Reference Counting: Python keeps track of how many references (i.e., variables) point to an object using reference counts. Memory is deallocated when an object's reference count drops to zero.\n",
    "###### Garbage Collection: Python's garbage collector periodically identifies and removes objects that are no longer referenced (unreachable) by the program, reclaiming memory.\n",
    "###### Memory Pool Management: Python uses memory pools to efficiently allocate and deallocate memory blocks of different sizes, reducing overhead.\n",
    "###### Memory Optimizations: Python optimizes memory usage with techniques like memory reuse, object pooling, and caching (e.g., caching small integers and empty immutable objects)."
   ]
  },
  {
   "cell_type": "markdown",
   "id": "3323f70c",
   "metadata": {},
   "source": [
    "15---How  to install python  on windows and set path variables ?"
   ]
  },
  {
   "cell_type": "markdown",
   "id": "3f688d48",
   "metadata": {},
   "source": [
    "Ans-- \n",
    "To install Python on Windows and set the necessary path variables, follow these steps:\n",
    "\n",
    "###### Installing Python on Windows:\n",
    "Download Python Installer:\n",
    "Visit the official Python website at python.org.\n",
    "Go to the Downloads section and download the latest version of Python for Windows. Choose either the 32-bit or 64-bit installer based on your system architecture.\n",
    "\n",
    "###### Run Python Installer:\n",
    "Once the installer is downloaded, double-click on the downloaded .exe file to run the Python installer.\n",
    "###### Install Python:\n",
    "In the Python installer window:\n",
    "Check the box that says \"Add Python to PATH\". This will automatically set up the necessary environment variables.\n",
    "Click \"Install Now\" to begin the installation process.\n",
    "###### Complete Installation:\n"
   ]
  },
  {
   "cell_type": "markdown",
   "id": "2b44966e",
   "metadata": {},
   "source": [
    "16--- Is indentation required in Python ?"
   ]
  },
  {
   "cell_type": "markdown",
   "id": "562f7d58",
   "metadata": {},
   "source": [
    "Ans--Yes, indentation is required in Python. Indentation is not just a stylistic choice but a fundamental aspect of Python's syntax that determines the structure and scope of code blocks.\n",
    "\n",
    "In Python:\n",
    "\n",
    "Indentation is used to define blocks of code (e.g., within functions, loops, conditional statements, classes).\n",
    "Indentation is mandatory for code readability and proper interpretation by the Python interpreter.\n",
    "Incorrect indentation can lead to syntax errors or alter the logic of your code."
   ]
  },
  {
   "cell_type": "code",
   "execution_count": null,
   "id": "8059a49f",
   "metadata": {},
   "outputs": [],
   "source": []
  }
 ],
 "metadata": {
  "kernelspec": {
   "display_name": "Python 3 (ipykernel)",
   "language": "python",
   "name": "python3"
  },
  "language_info": {
   "codemirror_mode": {
    "name": "ipython",
    "version": 3
   },
   "file_extension": ".py",
   "mimetype": "text/x-python",
   "name": "python",
   "nbconvert_exporter": "python",
   "pygments_lexer": "ipython3",
   "version": "3.11.5"
  }
 },
 "nbformat": 4,
 "nbformat_minor": 5
}
